{
  "cells": [
    {
      "cell_type": "markdown",
      "source": [
        "## تعریف تابه جفت ساز "
      ],
      "metadata": {
        "id": "pZa5AI9I9g_H"
      }
    },
    {
      "cell_type": "code",
      "execution_count": 37,
      "metadata": {
        "id": "dV4ZosNqtxLi"
      },
      "outputs": [],
      "source": [
        "# make pairs\n",
        "def make_pairs(x, y):\n",
        "    num_classes = max(y) + 1\n",
        "    digit_indices = [np.where(y == i)[0] for i in range(num_classes)]\n",
        "\n",
        "    pairs = []\n",
        "    labels = []\n",
        "\n",
        "    for idx1 in range(len(x)):\n",
        "        # add a matching example\n",
        "        x1 = x[idx1]\n",
        "        label1 = y[idx1]\n",
        "        idx2 = random.choice(digit_indices[label1])\n",
        "        x2 = x[idx2]\n",
        "        \n",
        "        pairs += [[x1, x2]]\n",
        "        labels += [1]\n",
        "    \n",
        "        # add a not matching example\n",
        "        label2 = random.randint(0, num_classes-1)\n",
        "        while label2 == label1:\n",
        "            label2 = random.randint(0, num_classes-1)\n",
        "\n",
        "        idx2 = random.choice(digit_indices[label2])\n",
        "        x2 = x[idx2]\n",
        "        \n",
        "        pairs += [[x1, x2]]\n",
        "        labels += [0]\n",
        "\n",
        "    return np.array(pairs), np.array(labels)"
      ]
    },
    {
      "cell_type": "markdown",
      "source": [
        "# لود کردن توابع کتابخانه ای مورد نیاز"
      ],
      "metadata": {
        "id": "TfqsJBMiaGOt"
      }
    },
    {
      "cell_type": "code",
      "execution_count": 1,
      "metadata": {
        "id": "P18Dx4KttxLc"
      },
      "outputs": [],
      "source": [
        "import random\n",
        "import numpy as np\n",
        "import keras\n",
        "from keras.models import Sequential, Model\n",
        "from keras.layers import Flatten, Dense, Concatenate, Dot, Lambda, Input\n",
        "from keras.datasets import mnist\n",
        "from keras.optimizers import Adam\n",
        "import matplotlib.pyplot as plt\n"
      ]
    },
    {
      "cell_type": "markdown",
      "source": [
        "# اول دیتا بیس امنیست را لود میکنیم"
      ],
      "metadata": {
        "id": "deJ2KiAkZ1Dk"
      }
    },
    {
      "cell_type": "code",
      "source": [
        "# load data\n",
        "(x_train, y_train), (x_test, y_test) = mnist.load_data()"
      ],
      "metadata": {
        "id": "efMVAohCZpkd"
      },
      "execution_count": 2,
      "outputs": []
    },
    {
      "cell_type": "markdown",
      "source": [
        "# حال نگاهی به داده لود شده می اندازیم"
      ],
      "metadata": {
        "id": "0A5VIqmOZ-71"
      }
    },
    {
      "cell_type": "code",
      "source": [
        "plt.imshow(x_train[0])\n",
        "print(x_train.shape)\n",
        "print(y_train[0])"
      ],
      "metadata": {
        "colab": {
          "base_uri": "https://localhost:8080/",
          "height": 467
        },
        "id": "IqFBZl1yX1-N",
        "outputId": "d83c8a32-7fe0-4406-fea9-8eaf237012ee"
      },
      "execution_count": 34,
      "outputs": [
        {
          "output_type": "stream",
          "name": "stdout",
          "text": [
            "(60000, 28, 28)\n",
            "5\n"
          ]
        },
        {
          "output_type": "display_data",
          "data": {
            "text/plain": [
              "<Figure size 640x480 with 1 Axes>"
            ],
            "image/png": "[encoded data removed]"
          },
          "metadata": {}
        }
      ]
    },
    {
      "cell_type": "code",
      "source": [
        "for i in range(0,28):\n",
        "  print(x_train[1,i])\n"
      ],
      "metadata": {
        "colab": {
          "base_uri": "https://localhost:8080/"
        },
        "id": "i-t_DcVobqwd",
        "outputId": "d7295549-d01e-4ea4-e387-37001949a00b"
      },
      "execution_count": 32,
      "outputs": [
        {
          "output_type": "stream",
          "name": "stdout",
          "text": [
            "[0 0 0 0 0 0 0 0 0 0 0 0 0 0 0 0 0 0 0 0 0 0 0 0 0 0 0 0]\n",
            "[0 0 0 0 0 0 0 0 0 0 0 0 0 0 0 0 0 0 0 0 0 0 0 0 0 0 0 0]\n",
            "[0 0 0 0 0 0 0 0 0 0 0 0 0 0 0 0 0 0 0 0 0 0 0 0 0 0 0 0]\n",
            "[0 0 0 0 0 0 0 0 0 0 0 0 0 0 0 0 0 0 0 0 0 0 0 0 0 0 0 0]\n",
            "[  0   0   0   0   0   0   0   0   0   0   0   0   0   0   0  51 159 253\n",
            " 159  50   0   0   0   0   0   0   0   0]\n",
            "[  0   0   0   0   0   0   0   0   0   0   0   0   0   0  48 238 252 252\n",
            " 252 237   0   0   0   0   0   0   0   0]\n",
            "[  0   0   0   0   0   0   0   0   0   0   0   0   0  54 227 253 252 239\n",
            " 233 252  57   6   0   0   0   0   0   0]\n",
            "[  0   0   0   0   0   0   0   0   0   0   0  10  60 224 252 253 252 202\n",
            "  84 252 253 122   0   0   0   0   0   0]\n",
            "[  0   0   0   0   0   0   0   0   0   0   0 163 252 252 252 253 252 252\n",
            "  96 189 253 167   0   0   0   0   0   0]\n",
            "[  0   0   0   0   0   0   0   0   0   0  51 238 253 253 190 114 253 228\n",
            "  47  79 255 168   0   0   0   0   0   0]\n",
            "[  0   0   0   0   0   0   0   0   0  48 238 252 252 179  12  75 121  21\n",
            "   0   0 253 243  50   0   0   0   0   0]\n",
            "[  0   0   0   0   0   0   0   0  38 165 253 233 208  84   0   0   0   0\n",
            "   0   0 253 252 165   0   0   0   0   0]\n",
            "[  0   0   0   0   0   0   0   7 178 252 240  71  19  28   0   0   0   0\n",
            "   0   0 253 252 195   0   0   0   0   0]\n",
            "[  0   0   0   0   0   0   0  57 252 252  63   0   0   0   0   0   0   0\n",
            "   0   0 253 252 195   0   0   0   0   0]\n",
            "[  0   0   0   0   0   0   0 198 253 190   0   0   0   0   0   0   0   0\n",
            "   0   0 255 253 196   0   0   0   0   0]\n",
            "[  0   0   0   0   0   0  76 246 252 112   0   0   0   0   0   0   0   0\n",
            "   0   0 253 252 148   0   0   0   0   0]\n",
            "[  0   0   0   0   0   0  85 252 230  25   0   0   0   0   0   0   0   0\n",
            "   7 135 253 186  12   0   0   0   0   0]\n",
            "[  0   0   0   0   0   0  85 252 223   0   0   0   0   0   0   0   0   7\n",
            " 131 252 225  71   0   0   0   0   0   0]\n",
            "[  0   0   0   0   0   0  85 252 145   0   0   0   0   0   0   0  48 165\n",
            " 252 173   0   0   0   0   0   0   0   0]\n",
            "[  0   0   0   0   0   0  86 253 225   0   0   0   0   0   0 114 238 253\n",
            " 162   0   0   0   0   0   0   0   0   0]\n",
            "[  0   0   0   0   0   0  85 252 249 146  48  29  85 178 225 253 223 167\n",
            "  56   0   0   0   0   0   0   0   0   0]\n",
            "[  0   0   0   0   0   0  85 252 252 252 229 215 252 252 252 196 130   0\n",
            "   0   0   0   0   0   0   0   0   0   0]\n",
            "[  0   0   0   0   0   0  28 199 252 252 253 252 252 233 145   0   0   0\n",
            "   0   0   0   0   0   0   0   0   0   0]\n",
            "[  0   0   0   0   0   0   0  25 128 252 253 252 141  37   0   0   0   0\n",
            "   0   0   0   0   0   0   0   0   0   0]\n",
            "[0 0 0 0 0 0 0 0 0 0 0 0 0 0 0 0 0 0 0 0 0 0 0 0 0 0 0 0]\n",
            "[0 0 0 0 0 0 0 0 0 0 0 0 0 0 0 0 0 0 0 0 0 0 0 0 0 0 0 0]\n",
            "[0 0 0 0 0 0 0 0 0 0 0 0 0 0 0 0 0 0 0 0 0 0 0 0 0 0 0 0]\n",
            "[0 0 0 0 0 0 0 0 0 0 0 0 0 0 0 0 0 0 0 0 0 0 0 0 0 0 0 0]\n"
          ]
        }
      ]
    },
    {
      "cell_type": "code",
      "execution_count": 35,
      "metadata": {
        "id": "b_TSHqYmtxLh"
      },
      "outputs": [],
      "source": [
        "x_train = x_train.astype('float32')\n",
        "x_test = x_test.astype('float32')\n",
        "x_train /= 255\n",
        "x_test /= 255"
      ]
    },
    {
      "cell_type": "markdown",
      "source": [
        "# بعد از نرمال سازی یک نگاه دیگر به داده ها بیندازیم"
      ],
      "metadata": {
        "id": "UFw7nbwBjm11"
      }
    },
    {
      "cell_type": "code",
      "source": [
        "for i in range(0,28):\n",
        "  print(x_train[1,i])"
      ],
      "metadata": {
        "colab": {
          "base_uri": "https://localhost:8080/"
        },
        "id": "CLT9u5JojmDw",
        "outputId": "c2bf4106-5d06-4330-d1d7-123254ecda6c"
      },
      "execution_count": 36,
      "outputs": [
        {
          "output_type": "stream",
          "name": "stdout",
          "text": [
            "[0. 0. 0. 0. 0. 0. 0. 0. 0. 0. 0. 0. 0. 0. 0. 0. 0. 0. 0. 0. 0. 0. 0. 0.\n",
            " 0. 0. 0. 0.]\n",
            "[0. 0. 0. 0. 0. 0. 0. 0. 0. 0. 0. 0. 0. 0. 0. 0. 0. 0. 0. 0. 0. 0. 0. 0.\n",
            " 0. 0. 0. 0.]\n",
            "[0. 0. 0. 0. 0. 0. 0. 0. 0. 0. 0. 0. 0. 0. 0. 0. 0. 0. 0. 0. 0. 0. 0. 0.\n",
            " 0. 0. 0. 0.]\n",
            "[0. 0. 0. 0. 0. 0. 0. 0. 0. 0. 0. 0. 0. 0. 0. 0. 0. 0. 0. 0. 0. 0. 0. 0.\n",
            " 0. 0. 0. 0.]\n",
            "[0.         0.         0.         0.         0.         0.\n",
            " 0.         0.         0.         0.         0.         0.\n",
            " 0.         0.         0.         0.2        0.62352943 0.99215686\n",
            " 0.62352943 0.19607843 0.         0.         0.         0.\n",
            " 0.         0.         0.         0.        ]\n",
            "[0.         0.         0.         0.         0.         0.\n",
            " 0.         0.         0.         0.         0.         0.\n",
            " 0.         0.         0.1882353  0.93333334 0.9882353  0.9882353\n",
            " 0.9882353  0.92941177 0.         0.         0.         0.\n",
            " 0.         0.         0.         0.        ]\n",
            "[0.         0.         0.         0.         0.         0.\n",
            " 0.         0.         0.         0.         0.         0.\n",
            " 0.         0.21176471 0.8901961  0.99215686 0.9882353  0.9372549\n",
            " 0.9137255  0.9882353  0.22352941 0.02352941 0.         0.\n",
            " 0.         0.         0.         0.        ]\n",
            "[0.         0.         0.         0.         0.         0.\n",
            " 0.         0.         0.         0.         0.         0.03921569\n",
            " 0.23529412 0.8784314  0.9882353  0.99215686 0.9882353  0.7921569\n",
            " 0.32941177 0.9882353  0.99215686 0.47843137 0.         0.\n",
            " 0.         0.         0.         0.        ]\n",
            "[0.         0.         0.         0.         0.         0.\n",
            " 0.         0.         0.         0.         0.         0.6392157\n",
            " 0.9882353  0.9882353  0.9882353  0.99215686 0.9882353  0.9882353\n",
            " 0.3764706  0.7411765  0.99215686 0.654902   0.         0.\n",
            " 0.         0.         0.         0.        ]\n",
            "[0.         0.         0.         0.         0.         0.\n",
            " 0.         0.         0.         0.         0.2        0.93333334\n",
            " 0.99215686 0.99215686 0.74509805 0.44705883 0.99215686 0.89411765\n",
            " 0.18431373 0.30980393 1.         0.65882355 0.         0.\n",
            " 0.         0.         0.         0.        ]\n",
            "[0.         0.         0.         0.         0.         0.\n",
            " 0.         0.         0.         0.1882353  0.93333334 0.9882353\n",
            " 0.9882353  0.7019608  0.04705882 0.29411766 0.4745098  0.08235294\n",
            " 0.         0.         0.99215686 0.9529412  0.19607843 0.\n",
            " 0.         0.         0.         0.        ]\n",
            "[0.         0.         0.         0.         0.         0.\n",
            " 0.         0.         0.14901961 0.64705884 0.99215686 0.9137255\n",
            " 0.8156863  0.32941177 0.         0.         0.         0.\n",
            " 0.         0.         0.99215686 0.9882353  0.64705884 0.\n",
            " 0.         0.         0.         0.        ]\n",
            "[0.         0.         0.         0.         0.         0.\n",
            " 0.         0.02745098 0.69803923 0.9882353  0.9411765  0.2784314\n",
            " 0.07450981 0.10980392 0.         0.         0.         0.\n",
            " 0.         0.         0.99215686 0.9882353  0.7647059  0.\n",
            " 0.         0.         0.         0.        ]\n",
            "[0.         0.         0.         0.         0.         0.\n",
            " 0.         0.22352941 0.9882353  0.9882353  0.24705882 0.\n",
            " 0.         0.         0.         0.         0.         0.\n",
            " 0.         0.         0.99215686 0.9882353  0.7647059  0.\n",
            " 0.         0.         0.         0.        ]\n",
            "[0.         0.         0.         0.         0.         0.\n",
            " 0.         0.7764706  0.99215686 0.74509805 0.         0.\n",
            " 0.         0.         0.         0.         0.         0.\n",
            " 0.         0.         1.         0.99215686 0.76862746 0.\n",
            " 0.         0.         0.         0.        ]\n",
            "[0.         0.         0.         0.         0.         0.\n",
            " 0.29803923 0.9647059  0.9882353  0.4392157  0.         0.\n",
            " 0.         0.         0.         0.         0.         0.\n",
            " 0.         0.         0.99215686 0.9882353  0.5803922  0.\n",
            " 0.         0.         0.         0.        ]\n",
            "[0.         0.         0.         0.         0.         0.\n",
            " 0.33333334 0.9882353  0.9019608  0.09803922 0.         0.\n",
            " 0.         0.         0.         0.         0.         0.\n",
            " 0.02745098 0.5294118  0.99215686 0.7294118  0.04705882 0.\n",
            " 0.         0.         0.         0.        ]\n",
            "[0.         0.         0.         0.         0.         0.\n",
            " 0.33333334 0.9882353  0.8745098  0.         0.         0.\n",
            " 0.         0.         0.         0.         0.         0.02745098\n",
            " 0.5137255  0.9882353  0.88235295 0.2784314  0.         0.\n",
            " 0.         0.         0.         0.        ]\n",
            "[0.         0.         0.         0.         0.         0.\n",
            " 0.33333334 0.9882353  0.5686275  0.         0.         0.\n",
            " 0.         0.         0.         0.         0.1882353  0.64705884\n",
            " 0.9882353  0.6784314  0.         0.         0.         0.\n",
            " 0.         0.         0.         0.        ]\n",
            "[0.         0.         0.         0.         0.         0.\n",
            " 0.3372549  0.99215686 0.88235295 0.         0.         0.\n",
            " 0.         0.         0.         0.44705883 0.93333334 0.99215686\n",
            " 0.63529414 0.         0.         0.         0.         0.\n",
            " 0.         0.         0.         0.        ]\n",
            "[0.         0.         0.         0.         0.         0.\n",
            " 0.33333334 0.9882353  0.9764706  0.57254905 0.1882353  0.11372549\n",
            " 0.33333334 0.69803923 0.88235295 0.99215686 0.8745098  0.654902\n",
            " 0.21960784 0.         0.         0.         0.         0.\n",
            " 0.         0.         0.         0.        ]\n",
            "[0.         0.         0.         0.         0.         0.\n",
            " 0.33333334 0.9882353  0.9882353  0.9882353  0.8980392  0.84313726\n",
            " 0.9882353  0.9882353  0.9882353  0.76862746 0.50980395 0.\n",
            " 0.         0.         0.         0.         0.         0.\n",
            " 0.         0.         0.         0.        ]\n",
            "[0.         0.         0.         0.         0.         0.\n",
            " 0.10980392 0.78039217 0.9882353  0.9882353  0.99215686 0.9882353\n",
            " 0.9882353  0.9137255  0.5686275  0.         0.         0.\n",
            " 0.         0.         0.         0.         0.         0.\n",
            " 0.         0.         0.         0.        ]\n",
            "[0.         0.         0.         0.         0.         0.\n",
            " 0.         0.09803922 0.5019608  0.9882353  0.99215686 0.9882353\n",
            " 0.5529412  0.14509805 0.         0.         0.         0.\n",
            " 0.         0.         0.         0.         0.         0.\n",
            " 0.         0.         0.         0.        ]\n",
            "[0. 0. 0. 0. 0. 0. 0. 0. 0. 0. 0. 0. 0. 0. 0. 0. 0. 0. 0. 0. 0. 0. 0. 0.\n",
            " 0. 0. 0. 0.]\n",
            "[0. 0. 0. 0. 0. 0. 0. 0. 0. 0. 0. 0. 0. 0. 0. 0. 0. 0. 0. 0. 0. 0. 0. 0.\n",
            " 0. 0. 0. 0.]\n",
            "[0. 0. 0. 0. 0. 0. 0. 0. 0. 0. 0. 0. 0. 0. 0. 0. 0. 0. 0. 0. 0. 0. 0. 0.\n",
            " 0. 0. 0. 0.]\n",
            "[0. 0. 0. 0. 0. 0. 0. 0. 0. 0. 0. 0. 0. 0. 0. 0. 0. 0. 0. 0. 0. 0. 0. 0.\n",
            " 0. 0. 0. 0.]\n"
          ]
        }
      ]
    },
    {
      "cell_type": "code",
      "source": [
        "#صدا زدن تابع پیر ساز\n",
        "pairs_train, labels_train = make_pairs(x_train, y_train)\n",
        "pairs_test, labels_test = make_pairs(x_test, y_test)"
      ],
      "metadata": {
        "id": "xd85mIgRi8tm"
      },
      "execution_count": 39,
      "outputs": []
    },
    {
      "cell_type": "code",
      "execution_count": 41,
      "metadata": {
        "colab": {
          "base_uri": "https://localhost:8080/"
        },
        "id": "4J0IiwgUtxLj",
        "outputId": "f03df68a-c25c-43f9-a98e-517daba68ac7"
      },
      "outputs": [
        {
          "output_type": "execute_result",
          "data": {
            "text/plain": [
              "(120000, 2, 28, 28)"
            ]
          },
          "metadata": {},
          "execution_count": 41
        }
      ],
      "source": [
        "pairs_train.shape"
      ]
    },
    {
      "cell_type": "code",
      "execution_count": null,
      "metadata": {
        "colab": {
          "base_uri": "https://localhost:8080/"
        },
        "id": "P3qks34EtxLj",
        "outputId": "13e6302f-5de0-49b9-e4ba-d63d61bb864b"
      },
      "outputs": [
        {
          "output_type": "execute_result",
          "data": {
            "text/plain": [
              "(120000,)"
            ]
          },
          "metadata": {},
          "execution_count": 18
        }
      ],
      "source": [
        "labels_train.shape"
      ]
    },
    {
      "cell_type": "code",
      "execution_count": null,
      "metadata": {
        "colab": {
          "base_uri": "https://localhost:8080/"
        },
        "id": "J1CTi139txLk",
        "outputId": "f4c61ace-e84b-4993-b240-028600fb1708"
      },
      "outputs": [
        {
          "output_type": "execute_result",
          "data": {
            "text/plain": [
              "array([1, 0, 1, ..., 0, 1, 0])"
            ]
          },
          "metadata": {},
          "execution_count": 19
        }
      ],
      "source": [
        "labels_train"
      ]
    },
    {
      "cell_type": "code",
      "execution_count": 42,
      "metadata": {
        "colab": {
          "base_uri": "https://localhost:8080/",
          "height": 448
        },
        "id": "o-Fk9KC5txLl",
        "outputId": "92bc2fc4-6285-4f43-b999-45da0fee824c"
      },
      "outputs": [
        {
          "output_type": "stream",
          "name": "stdout",
          "text": [
            "0\n"
          ]
        },
        {
          "output_type": "display_data",
          "data": {
            "text/plain": [
              "<Figure size 640x480 with 1 Axes>"
            ],
            "image/png": "[encoded data removed]"
          },
          "metadata": {}
        }
      ],
      "source": [
        "# take a peek at the data\n",
        "plt.imshow(pairs_train[401,0])\n",
        "print(labels_train[401])"
      ]
    },
    {
      "cell_type": "code",
      "execution_count": null,
      "metadata": {
        "id": "jRvxps9ptxLm"
      },
      "outputs": [],
      "source": [
        "# Weights not shared\n",
        "\n",
        "seq1 = Sequential()\n",
        "seq1.add(Flatten(input_shape=(28,28)))\n",
        "seq1.add(Dense(128, activation='relu'))\n",
        "\n",
        "seq2 = Sequential()\n",
        "seq2.add(Flatten(input_shape=(28,28)))\n",
        "seq2.add(Dense(128, activation='relu'))\n",
        "\n",
        "merge_layer = Concatenate()([seq1.output, seq2.output])\n",
        "dense_layer = Dense(1, activation=\"sigmoid\")(merge_layer)\n",
        "model = Model(inputs=[seq1.input, seq2.input], outputs=dense_layer)\n"
      ]
    },
    {
      "cell_type": "code",
      "execution_count": null,
      "metadata": {
        "colab": {
          "base_uri": "https://localhost:8080/"
        },
        "id": "VDcTEeI9txLm",
        "outputId": "4298461f-4e4b-47f5-aab4-45f93cea5f6c"
      },
      "outputs": [
        {
          "output_type": "stream",
          "name": "stdout",
          "text": [
            "Model: \"model\"\n",
            "__________________________________________________________________________________________________\n",
            " Layer (type)                   Output Shape         Param #     Connected to                     \n",
            "==================================================================================================\n",
            " flatten_input (InputLayer)     [(None, 28, 28)]     0           []                               \n",
            "                                                                                                  \n",
            " flatten_1_input (InputLayer)   [(None, 28, 28)]     0           []                               \n",
            "                                                                                                  \n",
            " flatten (Flatten)              (None, 784)          0           ['flatten_input[0][0]']          \n",
            "                                                                                                  \n",
            " flatten_1 (Flatten)            (None, 784)          0           ['flatten_1_input[0][0]']        \n",
            "                                                                                                  \n",
            " dense (Dense)                  (None, 128)          100480      ['flatten[0][0]']                \n",
            "                                                                                                  \n",
            " dense_1 (Dense)                (None, 128)          100480      ['flatten_1[0][0]']              \n",
            "                                                                                                  \n",
            " concatenate (Concatenate)      (None, 256)          0           ['dense[0][0]',                  \n",
            "                                                                  'dense_1[0][0]']                \n",
            "                                                                                                  \n",
            " dense_2 (Dense)                (None, 1)            257         ['concatenate[0][0]']            \n",
            "                                                                                                  \n",
            "==================================================================================================\n",
            "Total params: 201,217\n",
            "Trainable params: 201,217\n",
            "Non-trainable params: 0\n",
            "__________________________________________________________________________________________________\n"
          ]
        }
      ],
      "source": [
        "model.compile(loss = \"binary_crossentropy\", optimizer=\"adam\", metrics=[\"accuracy\"])\n",
        "model.summary()"
      ]
    },
    {
      "cell_type": "markdown",
      "source": [
        "## بعد از فیت کردن مدل مشاهده میکنیم که دقت خوبی ندارد "
      ],
      "metadata": {
        "id": "LNM9LcpJE3nN"
      }
    },
    {
      "cell_type": "code",
      "execution_count": null,
      "metadata": {
        "colab": {
          "base_uri": "https://localhost:8080/"
        },
        "id": "Ae23qZ2stxLn",
        "outputId": "d0e73194-cfb1-4702-e03b-f865ae3af949"
      },
      "outputs": [
        {
          "output_type": "stream",
          "name": "stdout",
          "text": [
            "Epoch 1/3\n",
            "7500/7500 [==============================] - 49s 6ms/step - loss: 0.6936 - accuracy: 0.5030\n",
            "Epoch 2/3\n",
            "7500/7500 [==============================] - 46s 6ms/step - loss: 0.6933 - accuracy: 0.5060\n",
            "Epoch 3/3\n",
            "7500/7500 [==============================] - 55s 7ms/step - loss: 0.6930 - accuracy: 0.5056\n"
          ]
        },
        {
          "output_type": "execute_result",
          "data": {
            "text/plain": [
              "<keras.callbacks.History at 0x7fecfbfc39d0>"
            ]
          },
          "metadata": {},
          "execution_count": 7
        }
      ],
      "source": [
        "model.fit([pairs_train[:,0], pairs_train[:,1]], labels_train[:], batch_size=16, epochs= 3)"
      ]
    },
    {
      "cell_type": "markdown",
      "source": [
        "## برای حل مشکل از پارامتر شیرینگ استفاده میکنیم و شبکه را از نوع ای پی آی میبندیم"
      ],
      "metadata": {
        "id": "HUM0QkR9C9FQ"
      }
    },
    {
      "cell_type": "code",
      "execution_count": null,
      "metadata": {
        "id": "HQKEWzqStxLo"
      },
      "outputs": [],
      "source": [
        "input = Input((28,28))\n",
        "x = Flatten()(input)\n",
        "x = Dense(128, activation='relu')(x)\n",
        "dense = Model(input, x)\n",
        "\n",
        "input1 = Input((28,28))\n",
        "input2 = Input((28,28))\n",
        "\n",
        "dense1 = dense(input1)\n",
        "dense2 = dense(input2)\n",
        "\n",
        "merge_layer = Concatenate()([dense1, dense2])\n",
        "dense_layer = Dense(1, activation=\"sigmoid\")(merge_layer)\n",
        "model = Model(inputs=[input1, input2], outputs=dense_layer)\n"
      ]
    },
    {
      "cell_type": "code",
      "execution_count": null,
      "metadata": {
        "colab": {
          "base_uri": "https://localhost:8080/"
        },
        "id": "9gJ32I0RtxLo",
        "outputId": "80cad8b4-5e33-4e1e-b501-01fc67093f86"
      },
      "outputs": [
        {
          "output_type": "stream",
          "name": "stdout",
          "text": [
            "Model: \"model_2\"\n",
            "__________________________________________________________________________________________________\n",
            " Layer (type)                   Output Shape         Param #     Connected to                     \n",
            "==================================================================================================\n",
            " input_2 (InputLayer)           [(None, 28, 28)]     0           []                               \n",
            "                                                                                                  \n",
            " input_3 (InputLayer)           [(None, 28, 28)]     0           []                               \n",
            "                                                                                                  \n",
            " model_1 (Functional)           (None, 128)          100480      ['input_2[0][0]',                \n",
            "                                                                  'input_3[0][0]']                \n",
            "                                                                                                  \n",
            " concatenate_1 (Concatenate)    (None, 256)          0           ['model_1[0][0]',                \n",
            "                                                                  'model_1[1][0]']                \n",
            "                                                                                                  \n",
            " dense_4 (Dense)                (None, 1)            257         ['concatenate_1[0][0]']          \n",
            "                                                                                                  \n",
            "==================================================================================================\n",
            "Total params: 100,737\n",
            "Trainable params: 100,737\n",
            "Non-trainable params: 0\n",
            "__________________________________________________________________________________________________\n"
          ]
        }
      ],
      "source": [
        "model.compile(loss = \"binary_crossentropy\", optimizer=\"adam\", metrics=[\"accuracy\"])\n",
        "model.summary()"
      ]
    },
    {
      "cell_type": "code",
      "execution_count": null,
      "metadata": {
        "id": "CPtng7TqtxLo",
        "outputId": "665760d4-8662-4f9f-f0d7-aee722e1d03b"
      },
      "outputs": [
        {
          "name": "stdout",
          "output_type": "stream",
          "text": [
            "Epoch 1/10\n",
            "120000/120000 [==============================] - 28s 229us/step - loss: 0.6941 - accuracy: 0.5056\n",
            "Epoch 2/10\n",
            "120000/120000 [==============================] - 28s 231us/step - loss: 0.6932 - accuracy: 0.4981\n",
            "Epoch 3/10\n",
            "120000/120000 [==============================] - 28s 236us/step - loss: 0.6930 - accuracy: 0.5048\n",
            "Epoch 4/10\n",
            "120000/120000 [==============================] - 28s 230us/step - loss: 0.6929 - accuracy: 0.5032\n",
            "Epoch 5/10\n",
            "120000/120000 [==============================] - 28s 233us/step - loss: 0.6928 - accuracy: 0.5050\n",
            "Epoch 6/10\n",
            "120000/120000 [==============================] - 28s 234us/step - loss: 0.6925 - accuracy: 0.5044\n",
            "Epoch 7/10\n",
            "120000/120000 [==============================] - 28s 237us/step - loss: 0.6923 - accuracy: 0.5115\n",
            "Epoch 8/10\n",
            "120000/120000 [==============================] - 28s 235us/step - loss: 0.6920 - accuracy: 0.5103\n",
            "Epoch 9/10\n",
            "120000/120000 [==============================] - 28s 234us/step - loss: 0.6918 - accuracy: 0.5105\n",
            "Epoch 10/10\n",
            "120000/120000 [==============================] - 28s 233us/step - loss: 0.6915 - accuracy: 0.5110\n"
          ]
        },
        {
          "data": {
            "text/plain": [
              "<keras.callbacks.callbacks.History at 0x7efb73333bb0>"
            ]
          },
          "execution_count": 13,
          "metadata": {},
          "output_type": "execute_result"
        }
      ],
      "source": [
        "model.fit([pairs_train[:,0], pairs_train[:,1]], labels_train[:], batch_size=16, epochs=10)"
      ]
    },
    {
      "cell_type": "markdown",
      "source": [
        "# باز هم مشکل حل نشد چون از اول کانکتنیت کردن درست نبود ما باید مقدار خروجی دو شبکه را از هم کم میکردیم "
      ],
      "metadata": {
        "id": "PRFBqJh5J7iJ"
      }
    },
    {
      "cell_type": "markdown",
      "source": [
        "# چون میخواهیم یک تابع جدید بنویسیم و آن را به عنوان یک لایه جدید به شبکه بدهیم از بک اند استفاده میکینم"
      ],
      "metadata": {
        "id": "5_BUeOtAKSHI"
      }
    },
    {
      "cell_type": "code",
      "execution_count": 43,
      "metadata": {
        "id": "nlxxzy6htxLp"
      },
      "outputs": [],
      "source": [
        "from keras import backend as K\n",
        "\n",
        "def euclidean_distance(vects):\n",
        "    x, y = vects\n",
        "    sum_square = K.sum(K.square(x - y), axis=1, keepdims=True)\n",
        "    return K.sqrt(K.maximum(sum_square, K.epsilon()))\n",
        "\n",
        "\n",
        "input = Input((28,28))\n",
        "x = Flatten()(input)\n",
        "x = Dense(128, activation='relu')(x)\n",
        "dense = Model(input, x)\n",
        "\n",
        "input1 = Input((28,28))\n",
        "input2 = Input((28,28))\n",
        "\n",
        "dense1 = dense(input1)\n",
        "dense2 = dense(input2)\n",
        "\n",
        "merge_layer = Lambda(euclidean_distance)([dense1,dense2])\n",
        "dense_layer = Dense(1, activation=\"sigmoid\")(merge_layer)\n",
        "model = Model(inputs=[input1, input2], outputs=dense_layer)\n"
      ]
    },
    {
      "cell_type": "code",
      "execution_count": 44,
      "metadata": {
        "colab": {
          "base_uri": "https://localhost:8080/"
        },
        "id": "KKNFXKgdtxLp",
        "outputId": "f35919f2-5f6f-4b7e-afd6-7a69adaa1336"
      },
      "outputs": [
        {
          "output_type": "stream",
          "name": "stdout",
          "text": [
            "Model: \"model_1\"\n",
            "__________________________________________________________________________________________________\n",
            " Layer (type)                   Output Shape         Param #     Connected to                     \n",
            "==================================================================================================\n",
            " input_2 (InputLayer)           [(None, 28, 28)]     0           []                               \n",
            "                                                                                                  \n",
            " input_3 (InputLayer)           [(None, 28, 28)]     0           []                               \n",
            "                                                                                                  \n",
            " model (Functional)             (None, 128)          100480      ['input_2[0][0]',                \n",
            "                                                                  'input_3[0][0]']                \n",
            "                                                                                                  \n",
            " lambda (Lambda)                (None, 1)            0           ['model[0][0]',                  \n",
            "                                                                  'model[1][0]']                  \n",
            "                                                                                                  \n",
            " dense_1 (Dense)                (None, 1)            2           ['lambda[0][0]']                 \n",
            "                                                                                                  \n",
            "==================================================================================================\n",
            "Total params: 100,482\n",
            "Trainable params: 100,482\n",
            "Non-trainable params: 0\n",
            "__________________________________________________________________________________________________\n"
          ]
        }
      ],
      "source": [
        "model.compile(loss = \"binary_crossentropy\", optimizer=\"adam\", metrics=[\"accuracy\"])\n",
        "model.summary()"
      ]
    },
    {
      "cell_type": "code",
      "execution_count": 45,
      "metadata": {
        "colab": {
          "base_uri": "https://localhost:8080/"
        },
        "id": "kz99kCRLtxLp",
        "outputId": "757e4b43-1efa-43ef-84f2-e957085c65f0"
      },
      "outputs": [
        {
          "output_type": "stream",
          "name": "stdout",
          "text": [
            "Epoch 1/10\n",
            "7500/7500 [==============================] - 46s 5ms/step - loss: 0.4990 - accuracy: 0.7486\n",
            "Epoch 2/10\n",
            "7500/7500 [==============================] - 36s 5ms/step - loss: 0.3699 - accuracy: 0.8453\n",
            "Epoch 3/10\n",
            "7500/7500 [==============================] - 37s 5ms/step - loss: 0.3555 - accuracy: 0.8525\n",
            "Epoch 4/10\n",
            "7500/7500 [==============================] - 38s 5ms/step - loss: 0.3512 - accuracy: 0.8545\n",
            "Epoch 5/10\n",
            "7500/7500 [==============================] - 37s 5ms/step - loss: 0.3488 - accuracy: 0.8562\n",
            "Epoch 6/10\n",
            "7500/7500 [==============================] - 40s 5ms/step - loss: 0.3471 - accuracy: 0.8574\n",
            "Epoch 7/10\n",
            "7500/7500 [==============================] - 39s 5ms/step - loss: 0.3456 - accuracy: 0.8570\n",
            "Epoch 8/10\n",
            "7500/7500 [==============================] - 37s 5ms/step - loss: 0.3449 - accuracy: 0.8577\n",
            "Epoch 9/10\n",
            "7500/7500 [==============================] - 38s 5ms/step - loss: 0.3442 - accuracy: 0.8578\n",
            "Epoch 10/10\n",
            "7500/7500 [==============================] - 34s 5ms/step - loss: 0.3433 - accuracy: 0.8587\n"
          ]
        },
        {
          "output_type": "execute_result",
          "data": {
            "text/plain": [
              "<keras.callbacks.History at 0x7f03f92a1360>"
            ]
          },
          "metadata": {},
          "execution_count": 45
        }
      ],
      "source": [
        "model.fit([pairs_train[:,0], pairs_train[:,1]], labels_train[:], batch_size=16, epochs=10)"
      ]
    },
    {
      "cell_type": "markdown",
      "source": [
        "# اعتبار سنجی مدل آموزش داده شده"
      ],
      "metadata": {
        "id": "iCpsO6iS4aH1"
      }
    },
    {
      "cell_type": "code",
      "source": [
        "model.evaluate([pairs_test[:,0], pairs_test[:,1]],labels_test)"
      ],
      "metadata": {
        "id": "BJE7CHUQrAxT",
        "outputId": "4c64d1ea-d38a-41c1-8044-82a795729bf4",
        "colab": {
          "base_uri": "https://localhost:8080/"
        }
      },
      "execution_count": 79,
      "outputs": [
        {
          "output_type": "stream",
          "name": "stdout",
          "text": [
            "625/625 [==============================] - 4s 6ms/step - loss: 0.3436 - accuracy: 0.8599\n"
          ]
        },
        {
          "output_type": "execute_result",
          "data": {
            "text/plain": [
              "[0.3436417579650879, 0.8598999977111816]"
            ]
          },
          "metadata": {},
          "execution_count": 79
        }
      ]
    },
    {
      "cell_type": "markdown",
      "source": [
        "# پیشبینی مدل آموزش داده شده"
      ],
      "metadata": {
        "id": "l6M184Cvqu5U"
      }
    },
    {
      "cell_type": "code",
      "execution_count": 72,
      "metadata": {
        "colab": {
          "base_uri": "https://localhost:8080/"
        },
        "outputId": "9fa29ff1-b2f1-4675-ef2b-ffa8823e26e8",
        "id": "-PVoaBSKoT3L"
      },
      "outputs": [
        {
          "output_type": "stream",
          "name": "stdout",
          "text": [
            "625/625 [==============================] - 3s 6ms/step\n"
          ]
        }
      ],
      "source": [
        "label_pridict=model.predict([pairs_test[:,0], pairs_test[:,1]])\n",
        "label_pridict=label_pridict.reshape(20000)\n",
        "label_pridict=np.around(label_pridict)\n",
        "label_pridict=label_pridict.astype('int')"
      ]
    },
    {
      "cell_type": "code",
      "source": [
        "label_pridict[10]"
      ],
      "metadata": {
        "id": "Pk-9z54D57v8",
        "outputId": "36fe0140-7ff5-40c3-91bd-887a562746ac",
        "colab": {
          "base_uri": "https://localhost:8080/"
        }
      },
      "execution_count": 83,
      "outputs": [
        {
          "output_type": "execute_result",
          "data": {
            "text/plain": [
              "1"
            ]
          },
          "metadata": {},
          "execution_count": 83
        }
      ]
    }
  ],
  "metadata": {
    "kernelspec": {
      "display_name": "Python 3",
      "language": "python",
      "name": "python3"
    },
    "language_info": {
      "codemirror_mode": {
        "name": "ipython",
        "version": 3
      },
      "file_extension": ".py",
      "mimetype": "text/x-python",
      "name": "python",
      "nbconvert_exporter": "python",
      "pygments_lexer": "ipython3",
      "version": "3.8.3"
    },
    "colab": {
      "provenance": [],
      "gpuType": "T4"
    },
    "accelerator": "GPU",
    "gpuClass": "standard"
  },
  "nbformat": 4,
  "nbformat_minor": 0
}