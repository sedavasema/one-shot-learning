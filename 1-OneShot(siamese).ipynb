{
  "cells": [
    {
      "cell_type": "markdown",
      "source": [
        "## تعریف تابه جفت ساز "
      ],
      "metadata": {
        "id": "pZa5AI9I9g_H"
      }
    },
    {
      "cell_type": "code",
      "execution_count": 1,
      "metadata": {
        "id": "dV4ZosNqtxLi"
      },
      "outputs": [],
      "source": [
        "# make pairs\n",
        "def make_pairs(x, y):\n",
        "    num_classes = max(y) + 1\n",
        "    digit_indices = [np.where(y == i)[0] for i in range(num_classes)]\n",
        "\n",
        "    pairs = []\n",
        "    labels = []\n",
        "\n",
        "    for idx1 in range(len(x)):\n",
        "        # add a matching example\n",
        "        x1 = x[idx1]\n",
        "        label1 = y[idx1]\n",
        "        idx2 = random.choice(digit_indices[label1])\n",
        "        x2 = x[idx2]\n",
        "        \n",
        "        pairs += [[x1, x2]]\n",
        "        labels += [1]\n",
        "    \n",
        "        # add a not matching example\n",
        "        label2 = random.randint(0, num_classes-1)\n",
        "        while label2 == label1:\n",
        "            label2 = random.randint(0, num_classes-1)\n",
        "\n",
        "        idx2 = random.choice(digit_indices[label2])\n",
        "        x2 = x[idx2]\n",
        "        \n",
        "        pairs += [[x1, x2]]\n",
        "        labels += [0]\n",
        "\n",
        "    return np.array(pairs), np.array(labels)"
      ]
    },
    {
      "cell_type": "code",
      "execution_count": 2,
      "metadata": {
        "id": "P18Dx4KttxLc"
      },
      "outputs": [],
      "source": [
        "import random\n",
        "import numpy as np\n",
        "import keras\n",
        "from keras.models import Sequential, Model\n",
        "from keras.layers import Flatten, Dense, Concatenate, Dot, Lambda, Input\n",
        "from keras.datasets import mnist\n",
        "from keras.optimizers import Adam\n",
        "import matplotlib.pyplot as plt\n"
      ]
    },
    {
      "cell_type": "code",
      "execution_count": 3,
      "metadata": {
        "id": "b_TSHqYmtxLh",
        "outputId": "cf3cc831-16c5-42c9-efec-608e6b06df82",
        "colab": {
          "base_uri": "https://localhost:8080/"
        }
      },
      "outputs": [
        {
          "output_type": "stream",
          "name": "stdout",
          "text": [
            "Downloading data from https://storage.googleapis.com/tensorflow/tf-keras-datasets/mnist.npz\n",
            "11490434/11490434 [==============================] - 0s 0us/step\n"
          ]
        }
      ],
      "source": [
        "# load data\n",
        "\n",
        "(x_train, y_train), (x_test, y_test) = mnist.load_data()\n",
        "x_train = x_train.astype('float32')\n",
        "x_test = x_test.astype('float32')\n",
        "x_train /= 255\n",
        "x_test /= 255\n",
        "#صدا زدن تابع پیر ساز\n",
        "pairs_train, labels_train = make_pairs(x_train, y_train)\n",
        "pairs_test, labels_test = make_pairs(x_test, y_test)"
      ]
    },
    {
      "cell_type": "code",
      "execution_count": 17,
      "metadata": {
        "id": "4J0IiwgUtxLj",
        "outputId": "10206f6c-0fda-4f79-b960-23ca1a1bd75e",
        "colab": {
          "base_uri": "https://localhost:8080/"
        }
      },
      "outputs": [
        {
          "output_type": "execute_result",
          "data": {
            "text/plain": [
              "(120000, 2, 28, 28)"
            ]
          },
          "metadata": {},
          "execution_count": 17
        }
      ],
      "source": [
        "pairs_train.shape"
      ]
    },
    {
      "cell_type": "code",
      "execution_count": 18,
      "metadata": {
        "id": "P3qks34EtxLj",
        "outputId": "13e6302f-5de0-49b9-e4ba-d63d61bb864b",
        "colab": {
          "base_uri": "https://localhost:8080/"
        }
      },
      "outputs": [
        {
          "output_type": "execute_result",
          "data": {
            "text/plain": [
              "(120000,)"
            ]
          },
          "metadata": {},
          "execution_count": 18
        }
      ],
      "source": [
        "labels_train.shape"
      ]
    },
    {
      "cell_type": "code",
      "execution_count": 19,
      "metadata": {
        "id": "J1CTi139txLk",
        "outputId": "f4c61ace-e84b-4993-b240-028600fb1708",
        "colab": {
          "base_uri": "https://localhost:8080/"
        }
      },
      "outputs": [
        {
          "output_type": "execute_result",
          "data": {
            "text/plain": [
              "array([1, 0, 1, ..., 0, 1, 0])"
            ]
          },
          "metadata": {},
          "execution_count": 19
        }
      ],
      "source": [
        "labels_train"
      ]
    },
    {
      "cell_type": "code",
      "execution_count": 24,
      "metadata": {
        "id": "o-Fk9KC5txLl",
        "outputId": "a15ad6f7-65ae-4142-bb0a-abb020dea96e",
        "colab": {
          "base_uri": "https://localhost:8080/",
          "height": 448
        }
      },
      "outputs": [
        {
          "output_type": "stream",
          "name": "stdout",
          "text": [
            "0\n"
          ]
        },
        {
          "output_type": "display_data",
          "data": {
            "text/plain": [
              "<Figure size 640x480 with 1 Axes>"
            ],
            "image/png": "[encoded data removed]"
          },
          "metadata": {}
        }
      ],
      "source": [
        "# take a peek at the data\n",
        "plt.imshow(pairs_train[401,1])\n",
        "print(labels_train[401])"
      ]
    },
    {
      "cell_type": "code",
      "execution_count": 4,
      "metadata": {
        "id": "jRvxps9ptxLm"
      },
      "outputs": [],
      "source": [
        "# Weights not shared\n",
        "\n",
        "seq1 = Sequential()\n",
        "seq1.add(Flatten(input_shape=(28,28)))\n",
        "seq1.add(Dense(128, activation='relu'))\n",
        "\n",
        "seq2 = Sequential()\n",
        "seq2.add(Flatten(input_shape=(28,28)))\n",
        "seq2.add(Dense(128, activation='relu'))\n",
        "\n",
        "merge_layer = Concatenate()([seq1.output, seq2.output])\n",
        "dense_layer = Dense(1, activation=\"sigmoid\")(merge_layer)\n",
        "model = Model(inputs=[seq1.input, seq2.input], outputs=dense_layer)\n"
      ]
    },
    {
      "cell_type": "code",
      "execution_count": 5,
      "metadata": {
        "id": "VDcTEeI9txLm",
        "outputId": "4298461f-4e4b-47f5-aab4-45f93cea5f6c",
        "colab": {
          "base_uri": "https://localhost:8080/"
        }
      },
      "outputs": [
        {
          "output_type": "stream",
          "name": "stdout",
          "text": [
            "Model: \"model\"\n",
            "__________________________________________________________________________________________________\n",
            " Layer (type)                   Output Shape         Param #     Connected to                     \n",
            "==================================================================================================\n",
            " flatten_input (InputLayer)     [(None, 28, 28)]     0           []                               \n",
            "                                                                                                  \n",
            " flatten_1_input (InputLayer)   [(None, 28, 28)]     0           []                               \n",
            "                                                                                                  \n",
            " flatten (Flatten)              (None, 784)          0           ['flatten_input[0][0]']          \n",
            "                                                                                                  \n",
            " flatten_1 (Flatten)            (None, 784)          0           ['flatten_1_input[0][0]']        \n",
            "                                                                                                  \n",
            " dense (Dense)                  (None, 128)          100480      ['flatten[0][0]']                \n",
            "                                                                                                  \n",
            " dense_1 (Dense)                (None, 128)          100480      ['flatten_1[0][0]']              \n",
            "                                                                                                  \n",
            " concatenate (Concatenate)      (None, 256)          0           ['dense[0][0]',                  \n",
            "                                                                  'dense_1[0][0]']                \n",
            "                                                                                                  \n",
            " dense_2 (Dense)                (None, 1)            257         ['concatenate[0][0]']            \n",
            "                                                                                                  \n",
            "==================================================================================================\n",
            "Total params: 201,217\n",
            "Trainable params: 201,217\n",
            "Non-trainable params: 0\n",
            "__________________________________________________________________________________________________\n"
          ]
        }
      ],
      "source": [
        "model.compile(loss = \"binary_crossentropy\", optimizer=\"adam\", metrics=[\"accuracy\"])\n",
        "model.summary()"
      ]
    },
    {
      "cell_type": "markdown",
      "source": [
        "## بعد از فیت کردن مدل مشاهده میکنیم که دقت خوبی ندارد "
      ],
      "metadata": {
        "id": "LNM9LcpJE3nN"
      }
    },
    {
      "cell_type": "code",
      "execution_count": 7,
      "metadata": {
        "id": "Ae23qZ2stxLn",
        "outputId": "d0e73194-cfb1-4702-e03b-f865ae3af949",
        "colab": {
          "base_uri": "https://localhost:8080/"
        }
      },
      "outputs": [
        {
          "output_type": "stream",
          "name": "stdout",
          "text": [
            "Epoch 1/3\n",
            "7500/7500 [==============================] - 49s 6ms/step - loss: 0.6936 - accuracy: 0.5030\n",
            "Epoch 2/3\n",
            "7500/7500 [==============================] - 46s 6ms/step - loss: 0.6933 - accuracy: 0.5060\n",
            "Epoch 3/3\n",
            "7500/7500 [==============================] - 55s 7ms/step - loss: 0.6930 - accuracy: 0.5056\n"
          ]
        },
        {
          "output_type": "execute_result",
          "data": {
            "text/plain": [
              "<keras.callbacks.History at 0x7fecfbfc39d0>"
            ]
          },
          "metadata": {},
          "execution_count": 7
        }
      ],
      "source": [
        "model.fit([pairs_train[:,0], pairs_train[:,1]], labels_train[:], batch_size=16, epochs= 3)"
      ]
    },
    {
      "cell_type": "markdown",
      "source": [
        "## برای حل مشکل از پارامتر شیرینگ استفاده میکنیم و شبکه را از نوع ای پی آی میبندیم"
      ],
      "metadata": {
        "id": "HUM0QkR9C9FQ"
      }
    },
    {
      "cell_type": "code",
      "execution_count": 8,
      "metadata": {
        "id": "HQKEWzqStxLo"
      },
      "outputs": [],
      "source": [
        "input = Input((28,28))\n",
        "x = Flatten()(input)\n",
        "x = Dense(128, activation='relu')(x)\n",
        "dense = Model(input, x)\n",
        "\n",
        "input1 = Input((28,28))\n",
        "input2 = Input((28,28))\n",
        "\n",
        "dense1 = dense(input1)\n",
        "dense2 = dense(input2)\n",
        "\n",
        "merge_layer = Concatenate()([dense1, dense2])\n",
        "dense_layer = Dense(1, activation=\"sigmoid\")(merge_layer)\n",
        "model = Model(inputs=[input1, input2], outputs=dense_layer)\n"
      ]
    },
    {
      "cell_type": "code",
      "execution_count": 9,
      "metadata": {
        "id": "9gJ32I0RtxLo",
        "outputId": "80cad8b4-5e33-4e1e-b501-01fc67093f86",
        "colab": {
          "base_uri": "https://localhost:8080/"
        }
      },
      "outputs": [
        {
          "output_type": "stream",
          "name": "stdout",
          "text": [
            "Model: \"model_2\"\n",
            "__________________________________________________________________________________________________\n",
            " Layer (type)                   Output Shape         Param #     Connected to                     \n",
            "==================================================================================================\n",
            " input_2 (InputLayer)           [(None, 28, 28)]     0           []                               \n",
            "                                                                                                  \n",
            " input_3 (InputLayer)           [(None, 28, 28)]     0           []                               \n",
            "                                                                                                  \n",
            " model_1 (Functional)           (None, 128)          100480      ['input_2[0][0]',                \n",
            "                                                                  'input_3[0][0]']                \n",
            "                                                                                                  \n",
            " concatenate_1 (Concatenate)    (None, 256)          0           ['model_1[0][0]',                \n",
            "                                                                  'model_1[1][0]']                \n",
            "                                                                                                  \n",
            " dense_4 (Dense)                (None, 1)            257         ['concatenate_1[0][0]']          \n",
            "                                                                                                  \n",
            "==================================================================================================\n",
            "Total params: 100,737\n",
            "Trainable params: 100,737\n",
            "Non-trainable params: 0\n",
            "__________________________________________________________________________________________________\n"
          ]
        }
      ],
      "source": [
        "model.compile(loss = \"binary_crossentropy\", optimizer=\"adam\", metrics=[\"accuracy\"])\n",
        "model.summary()"
      ]
    },
    {
      "cell_type": "code",
      "execution_count": null,
      "metadata": {
        "id": "CPtng7TqtxLo",
        "outputId": "665760d4-8662-4f9f-f0d7-aee722e1d03b"
      },
      "outputs": [
        {
          "name": "stdout",
          "output_type": "stream",
          "text": [
            "Epoch 1/10\n",
            "120000/120000 [==============================] - 28s 229us/step - loss: 0.6941 - accuracy: 0.5056\n",
            "Epoch 2/10\n",
            "120000/120000 [==============================] - 28s 231us/step - loss: 0.6932 - accuracy: 0.4981\n",
            "Epoch 3/10\n",
            "120000/120000 [==============================] - 28s 236us/step - loss: 0.6930 - accuracy: 0.5048\n",
            "Epoch 4/10\n",
            "120000/120000 [==============================] - 28s 230us/step - loss: 0.6929 - accuracy: 0.5032\n",
            "Epoch 5/10\n",
            "120000/120000 [==============================] - 28s 233us/step - loss: 0.6928 - accuracy: 0.5050\n",
            "Epoch 6/10\n",
            "120000/120000 [==============================] - 28s 234us/step - loss: 0.6925 - accuracy: 0.5044\n",
            "Epoch 7/10\n",
            "120000/120000 [==============================] - 28s 237us/step - loss: 0.6923 - accuracy: 0.5115\n",
            "Epoch 8/10\n",
            "120000/120000 [==============================] - 28s 235us/step - loss: 0.6920 - accuracy: 0.5103\n",
            "Epoch 9/10\n",
            "120000/120000 [==============================] - 28s 234us/step - loss: 0.6918 - accuracy: 0.5105\n",
            "Epoch 10/10\n",
            "120000/120000 [==============================] - 28s 233us/step - loss: 0.6915 - accuracy: 0.5110\n"
          ]
        },
        {
          "data": {
            "text/plain": [
              "<keras.callbacks.callbacks.History at 0x7efb73333bb0>"
            ]
          },
          "execution_count": 13,
          "metadata": {},
          "output_type": "execute_result"
        }
      ],
      "source": [
        "model.fit([pairs_train[:,0], pairs_train[:,1]], labels_train[:], batch_size=16, epochs=10)"
      ]
    },
    {
      "cell_type": "markdown",
      "source": [
        "# باز هم مشکل حل نشد چون از اول کانکتنیت کردن درست نبود ما باید مقدار خروجی دو شبکه را از هم کم میکردیم "
      ],
      "metadata": {
        "id": "PRFBqJh5J7iJ"
      }
    },
    {
      "cell_type": "markdown",
      "source": [
        "# چون میخواهیم یک تابع جدید بنویسیم و آن را به عنوان یک لایه جدید به شبکه بدهیم از بک اند استفاده میکینم"
      ],
      "metadata": {
        "id": "5_BUeOtAKSHI"
      }
    },
    {
      "cell_type": "code",
      "execution_count": null,
      "metadata": {
        "id": "nlxxzy6htxLp"
      },
      "outputs": [],
      "source": [
        "from keras import backend as K\n",
        "\n",
        "def euclidean_distance(vects):\n",
        "    x, y = vects\n",
        "    sum_square = K.sum(K.square(x - y), axis=1, keepdims=True)\n",
        "    return K.sqrt(K.maximum(sum_square, K.epsilon()))\n",
        "\n",
        "\n",
        "input = Input((28,28))\n",
        "x = Flatten()(input)\n",
        "x = Dense(128, activation='relu')(x)\n",
        "dense = Model(input, x)\n",
        "\n",
        "input1 = Input((28,28))\n",
        "input2 = Input((28,28))\n",
        "\n",
        "dense1 = dense(input1)\n",
        "dense2 = dense(input2)\n",
        "\n",
        "merge_layer = Lambda(euclidean_distance)([dense1,dense2])\n",
        "dense_layer = Dense(1, activation=\"sigmoid\")(merge_layer)\n",
        "model = Model(inputs=[input1, input2], outputs=dense_layer)\n"
      ]
    },
    {
      "cell_type": "code",
      "execution_count": null,
      "metadata": {
        "id": "KKNFXKgdtxLp",
        "outputId": "622e8ae2-783a-4d52-dfdb-6de0819ac551"
      },
      "outputs": [
        {
          "name": "stdout",
          "output_type": "stream",
          "text": [
            "Model: \"model_5\"\n",
            "__________________________________________________________________________________________________\n",
            "Layer (type)                    Output Shape         Param #     Connected to                     \n",
            "==================================================================================================\n",
            "input_5 (InputLayer)            (None, 28, 28)       0                                            \n",
            "__________________________________________________________________________________________________\n",
            "input_6 (InputLayer)            (None, 28, 28)       0                                            \n",
            "__________________________________________________________________________________________________\n",
            "model_4 (Model)                 (None, 128)          100480      input_5[0][0]                    \n",
            "                                                                 input_6[0][0]                    \n",
            "__________________________________________________________________________________________________\n",
            "lambda_1 (Lambda)               (None, 1)            0           model_4[1][0]                    \n",
            "                                                                 model_4[2][0]                    \n",
            "__________________________________________________________________________________________________\n",
            "dense_7 (Dense)                 (None, 1)            2           lambda_1[0][0]                   \n",
            "==================================================================================================\n",
            "Total params: 100,482\n",
            "Trainable params: 100,482\n",
            "Non-trainable params: 0\n",
            "__________________________________________________________________________________________________\n"
          ]
        }
      ],
      "source": [
        "model.compile(loss = \"binary_crossentropy\", optimizer=\"adam\", metrics=[\"accuracy\"])\n",
        "model.summary()"
      ]
    },
    {
      "cell_type": "code",
      "execution_count": null,
      "metadata": {
        "id": "kz99kCRLtxLp",
        "outputId": "efda044f-2e0f-480b-f228-8b154a250526"
      },
      "outputs": [
        {
          "name": "stdout",
          "output_type": "stream",
          "text": [
            "Epoch 1/10\n",
            "120000/120000 [==============================] - 30s 253us/step - loss: 0.4361 - accuracy: 0.8034\n",
            "Epoch 2/10\n",
            "120000/120000 [==============================] - 30s 249us/step - loss: 0.3490 - accuracy: 0.8525\n",
            "Epoch 3/10\n",
            "120000/120000 [==============================] - 30s 250us/step - loss: 0.3335 - accuracy: 0.8598\n",
            "Epoch 4/10\n",
            "120000/120000 [==============================] - 30s 251us/step - loss: 0.3291 - accuracy: 0.8620\n",
            "Epoch 5/10\n",
            "120000/120000 [==============================] - 30s 249us/step - loss: 0.3266 - accuracy: 0.8631\n",
            "Epoch 6/10\n",
            "120000/120000 [==============================] - 31s 257us/step - loss: 0.3257 - accuracy: 0.8626\n",
            "Epoch 7/10\n",
            "120000/120000 [==============================] - 30s 252us/step - loss: 0.3240 - accuracy: 0.8641\n",
            "Epoch 8/10\n",
            "120000/120000 [==============================] - 30s 251us/step - loss: 0.3230 - accuracy: 0.8643\n",
            "Epoch 9/10\n",
            "120000/120000 [==============================] - 30s 251us/step - loss: 0.3221 - accuracy: 0.8642\n",
            "Epoch 10/10\n",
            "120000/120000 [==============================] - 36s 301us/step - loss: 0.3215 - accuracy: 0.8647\n"
          ]
        },
        {
          "data": {
            "text/plain": [
              "<keras.callbacks.callbacks.History at 0x7efb3c1b9e50>"
            ]
          },
          "execution_count": 16,
          "metadata": {},
          "output_type": "execute_result"
        }
      ],
      "source": [
        "model.fit([pairs_train[:,0], pairs_train[:,1]], labels_train[:], batch_size=16, epochs=10)"
      ]
    },
    {
      "cell_type": "markdown",
      "metadata": {
        "id": "n5YsiKlftxLq"
      },
      "source": [
        "source:\n",
        "    https://raw.githubusercontent.com/lukas/ml-class/master/videos/one-shot/"
      ]
    }
  ],
  "metadata": {
    "kernelspec": {
      "display_name": "Python 3",
      "language": "python",
      "name": "python3"
    },
    "language_info": {
      "codemirror_mode": {
        "name": "ipython",
        "version": 3
      },
      "file_extension": ".py",
      "mimetype": "text/x-python",
      "name": "python",
      "nbconvert_exporter": "python",
      "pygments_lexer": "ipython3",
      "version": "3.8.3"
    },
    "colab": {
      "provenance": [],
      "gpuType": "T4"
    },
    "accelerator": "GPU",
    "gpuClass": "standard"
  },
  "nbformat": 4,
  "nbformat_minor": 0
}